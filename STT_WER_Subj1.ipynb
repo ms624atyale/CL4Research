{
  "nbformat": 4,
  "nbformat_minor": 0,
  "metadata": {
    "colab": {
      "provenance": [],
      "authorship_tag": "ABX9TyMixGpeaj8/4wXsNqUyaz81",
      "include_colab_link": true
    },
    "kernelspec": {
      "name": "python3",
      "display_name": "Python 3"
    },
    "language_info": {
      "name": "python"
    }
  },
  "cells": [
    {
      "cell_type": "markdown",
      "metadata": {
        "id": "view-in-github",
        "colab_type": "text"
      },
      "source": [
        "<a href=\"https://colab.research.google.com/github/ms624atyale/CL4Research/blob/main/STT_WER_Subj1.ipynb\" target=\"_parent\"><img src=\"https://colab.research.google.com/assets/colab-badge.svg\" alt=\"Open In Colab\"/></a>"
      ]
    },
    {
      "cell_type": "markdown",
      "source": [
        "In this modified code, the convert_speech_to_text() function remains the same as before, which converts speech to text using Google STT. The count_words() function also remains the same, which counts the number of words in the text.\n",
        "\n",
        "The code iterates over the WAV files in the specified folder. For each WAV file, it converts the speech to text using convert_speech_to_text(), then counts the number of words in the converted text using count_words(). Finally, it prints the filename, converted text, and word count for each WAV file.\n",
        "\n",
        "Make sure to adjust the folder_path variable to the actual path of your WAV files. After making these adjustments, run the code, and it will apply Google STT on each WAV file, retrieve the converted text, and count the number of words in the text for each WAV file."
      ],
      "metadata": {
        "id": "qQVtTYE72IgK"
      }
    },
    {
      "cell_type": "markdown",
      "source": [
        "###**🐹 <font color = 'brown'> google STT (SpeechRecognition package) applied to a list of oritinal wav. files and their corresponding word count** ⤵️\n",
        "\n",
        "###**🌵 1. STT (subj1, rep1, all text, original)**"
      ],
      "metadata": {
        "id": "fXvHSq8o74HD"
      }
    },
    {
      "cell_type": "code",
      "source": [
        "!pip install SpeechRecognition\n",
        "import speech_recognition as sr\n",
        "import os\n",
        "\n",
        "def convert_speech_to_text(audio_file):\n",
        "    recognizer = sr.Recognizer()\n",
        "\n",
        "    with sr.AudioFile(audio_file) as source:\n",
        "        audio = recognizer.record(source)  # Load the audio file\n",
        "\n",
        "    text = recognizer.recognize_google(audio)  # Use Google Speech Recognition API\n",
        "    lowercase_text = text.lower()  # Convert the text to lowercase\n",
        "\n",
        "    return lowercase_text\n",
        "\n",
        "def count_words(text):\n",
        "    words = text.split()  # Split the text into words\n",
        "    return len(words)    # Return the count of words\n",
        "\n",
        "# Path to the folder containing the WAV files\n",
        "folder_path = \"/content/sample_data/subj1_para_8rep\"\n",
        "\n",
        "# Iterate over the files in the folder\n",
        "for filename in os.listdir(folder_path):\n",
        "    if filename.endswith(\".wav\"):\n",
        "        audio_file = os.path.join(folder_path, filename)\n",
        "\n",
        "        converted_text = convert_speech_to_text(audio_file)  # Convert speech to text\n",
        "\n",
        "        word_count = count_words(converted_text)  # Count the words in the converted text\n",
        "\n",
        "        print(f\"File: {filename}\")\n",
        "        print(f\"Text: {converted_text}\")\n",
        "        print(f\"Word Count: {word_count}\\n\")"
      ],
      "metadata": {
        "id": "teUoaGzw2s7V",
        "outputId": "35298443-e775-49c4-fb72-73f86eeb0d61",
        "colab": {
          "base_uri": "https://localhost:8080/"
        }
      },
      "execution_count": 1,
      "outputs": [
        {
          "output_type": "stream",
          "name": "stdout",
          "text": [
            "Collecting SpeechRecognition\n",
            "  Downloading SpeechRecognition-3.10.0-py2.py3-none-any.whl (32.8 MB)\n",
            "\u001b[2K     \u001b[90m━━━━━━━━━━━━━━━━━━━━━━━━━━━━━━━━━━━━━━━━\u001b[0m \u001b[32m32.8/32.8 MB\u001b[0m \u001b[31m43.8 MB/s\u001b[0m eta \u001b[36m0:00:00\u001b[0m\n",
            "\u001b[?25hRequirement already satisfied: requests>=2.26.0 in /usr/local/lib/python3.10/dist-packages (from SpeechRecognition) (2.27.1)\n",
            "Requirement already satisfied: urllib3<1.27,>=1.21.1 in /usr/local/lib/python3.10/dist-packages (from requests>=2.26.0->SpeechRecognition) (1.26.16)\n",
            "Requirement already satisfied: certifi>=2017.4.17 in /usr/local/lib/python3.10/dist-packages (from requests>=2.26.0->SpeechRecognition) (2023.5.7)\n",
            "Requirement already satisfied: charset-normalizer~=2.0.0 in /usr/local/lib/python3.10/dist-packages (from requests>=2.26.0->SpeechRecognition) (2.0.12)\n",
            "Requirement already satisfied: idna<4,>=2.5 in /usr/local/lib/python3.10/dist-packages (from requests>=2.26.0->SpeechRecognition) (3.4)\n",
            "Installing collected packages: SpeechRecognition\n",
            "Successfully installed SpeechRecognition-3.10.0\n",
            "File: sub1_para2.wav\n",
            "Text: the nursing and the sun world is putting which was stronger when i travel i came along work in a warm clock they are really that the one who first to succeed in making the traveler take his clock up should be considered stronger than the other than the nurse wind blew as hard as he could but don't worry he blew the more closely together for his club around him and i lost the nursery nursery\n",
            "Word Count: 77\n",
            "\n",
            "File: subj1_para7.wav\n",
            "Text: the nurse wind and the sun was disputing which was the stronger when a traveler came along route in the warm cloth they are great that the one who first succeeded in making the traveler take his clothes off should be considered stronger than the other then the nurse wind blew as hard as he could but the more he blew the more closely with his clock around him and i left and there's one game of the attempt in the song in the sky shine out warmly and immediately to travel to the nurse when was obligated to confess that the sun was the stronger of the\n",
            "Word Count: 108\n",
            "\n",
            "File: subj1_para3.wav\n",
            "Text: the nurse win and the song world is cooking which was stronger when a traveler came around worked in the alarm clock they are really that the one who first succeed in making the traveler take his clock up should be considered stronger than the other then the nurse wind blew as hard as he could but the more he blew the more closely to travel for his club around him and endless the nursery was over there to confess that the song was the stronger of the\n",
            "Word Count: 88\n",
            "\n",
            "File: subj1_para6.wav\n",
            "Text: what's the nurse mean and the song where they speaking which was the stronger when a traveler came along rough in a warm clock they agree that the one who first succeeded in making the traveler take his clothes off should be considered stronger than the other than the nurse wind blew as hard as he could the more he blew the more closely together for his clock around him and unless the nurse wind gave up the attempt then the song in the shine out only and immediately to traveling was over to confess that the song was the stronger of the\n",
            "Word Count: 103\n",
            "\n",
            "File: subj1_para4.wav\n",
            "Text: the nurse wind and the sun world is putting this was the stronger when a traveler came along rough in the warm clock they already that the one who first succeeded in making the traveler take his clock off should be considered a stronger than the other than the north wind blow us hard as he could put the more he blew the more closely did the travel or for his clock around him and ellis the north wind gave up the attempt in the song in the sky shine at warmly and immediately was over to confess that the sun was the stronger of the\n",
            "Word Count: 106\n",
            "\n",
            "File: subj1_para8.wav\n",
            "Text: the nurse wind and the sun world is building which was the stronger when a traveler came or not wrapped in a warm cup they are with that the one who first succeed in making the traveler take his clothes off should be considered stronger than the other than the north wind blow as hard as he could but the more he blew the more closely the traveler for the clock around him and i left the north wind gave up the attempt in the sun in the sky shine out of me and immediately was over to confess that the song was the stronger of the\n",
            "Word Count: 107\n",
            "\n",
            "File: subj1_para5.wav\n",
            "Text: the nurse wind and the sun world is putting which was the stronger when the traveler came or not in the room clock they agreed that the one who first succeed in making the traveler take his clothes off should be considered stronger than the other than the north wind blew as hard as he could but the more he blew the more closely did the tabular for his club around him and i left the last the nursery was over to confess that the song was the stronger of\n",
            "Word Count: 90\n",
            "\n",
            "File: sub1_para1.wav\n",
            "Text: the nurse wind and the sun world is putting which was the stronger when a traveler came along work in a warm clothes they are reset the one who first succeeded in making the traveler take his clock of should be considered stronger than the other than the nurse wind blew as hard as he could but the more he blew the more closely did the traveler for his club around him and i'll ask him the song in the sky shine out lonely and immediately the traveling was the stronger of the\n",
            "Word Count: 93\n",
            "\n"
          ]
        }
      ]
    },
    {
      "cell_type": "code",
      "source": [
        "hypothesis_texts = [\"the nurse wind and the sun world is building which was the stronger when a traveler came along work in a warm clock they are reset the one who first succeeded in making the traveler take his clock of should be considered stronger than the other than the nurse wind blew as hard as he could but the more he blew the more closely the traveler from his club around him and i lost the nursery and immediately go traveling was only\",\n",
        "                    \"the nursery and the sun world is putting which was stronger when i travel i came along work in a warm club they are really that the one who forced to succeed in making the traveler take his clock of should be considered stronger than the other in the nurse main blue as hard as he could put them away he blew the more closely did the traveler for his club around him and i lost the nursery nursery\",\n",
        "                    \"the nurse win and the song world is putting which was stronger when a traveler came around worked in the alarm clock they are really that the one who first succeed in making the traveler take his clothes off should be considered stronger than the other then the nurse wind blew as hard as he could but\",\n",
        "                    \"the nurse wind and the sun world is putting this was the stronger when a traveler came along with the warm clock they are read that the one who first succeeded in making the traveler take his clock off should be considered a stronger than the other than the north wind blow us hard as he could put the more he blew the more closely did the traveler for his clock around him and unless the north wind gave up the tent in the song in the sky shine on me and immediately was alive to confess that the sun was the stronger of\",\n",
        "                    \"the nurse win and the song where they speak english with the stronger when the traveler came or not in the room clock they agreed that the one who first succeed in making the traveler take his clock off should be considered stronger than the other than the north wind blew as hard as he could put the more he blew the more closely did the turbo for his club around him and i left the list the nursery was over to confess that the song was the stronger of the two\",\n",
        "                    \"the nurse mean and the song world is putting which was the stronger when a traveler came along rough in a warm clock they agreed that the one who first succeeded in making the traveler take his clothes off should be considered stronger than the other than the nurse wind blew as hard as he could the more he blew the more closely together for his clock around him and i left the nursery was obviously to confess that the song was the stronger of the two\",\n",
        "                    \"the nurse win and the sun was disputing which was the stronger when a traveler came along route in the warm clothes they are great that the one who first succeeded in making the traveler take his clothes off should be considered stronger than the other than the nurse wind blew as hard as he could but the more he blew the more closely the doctor for his clock around him and i left and there's one game of the attempt in the sun in the sky shine at warmly and immediately to travel to the nurse when was over to confess that the sun was the stronger of the two\",\n",
        "                    \"the nurse win and the sun was disputing which was the stronger when a traveler came along route in the warm clothes they are great that the one who first succeeded in making the traveler take his clothes off should be considered stronger than the other than the nurse wind blew as hard as he could but the more he blew the more closely the doctor for his clock around him and i left and there's one game of the attempt in the sun in the sky shine at warmly and immediately to travel to the nurse when was over to confess that the sun was the stronger of the two\",\n",
        "                    \"the north wind and the sun were disputing which was the stronger, when a traveler came along wrapped in a warm cloak. they agreed that the one who first succeeded in making the traveler take his cloak off should be considered stronger than the other. then the north wind blew as hard as he could, but the more he blew the more closely did the traveler fold his cloak around him; and at last the north wind gave up the attempt. then the sun shined out warmly, and immediately the traveler took off his cloak. and so the north wind was obliged to confess that the sun was the stronger of the two.\",\n",
        "                    \"the north wind and the sun were disputing which was the stronger when a traveler came along wrapped in a warm cloak they agreed that the one who first succeeded in making the traveler take his cloak off should be considered stronger than the other then the north wind blew as hard as he could but the more he blew the more closely did the traveler fold his cloak around him and at last the north wind gave up the attempt then the sun shined out warmly and immediately the traveler took off his cloak and so the north wind was obliged to confess that the sun was the stronger of the two\"\n",
        "]\n"
      ],
      "metadata": {
        "id": "kO2-b7M_9YlS"
      },
      "execution_count": null,
      "outputs": []
    },
    {
      "cell_type": "markdown",
      "source": [
        "###**🌵 2. WER (subj1, rep1, all text, original)**\n",
        "  - Full Text: North Wind and the Sun were disputing which was the stronger, when a traveler came along wrapped in a warm cloak. They agreed that the one who first succeeded in making the traveler take his cloak off should be considered stronger than the other. Then the North Wind blew as hard as he could, but the more he blew the more closely did the traveler fold his cloak around him; and at last the North Wind gave up the attempt. Then the Sun shined out warmly, and immediately the traveler took off his cloak. And so the North Wind was obliged to confess that the Sun was the stronger of the two.\n",
        "  \n",
        " - #reference12: small letters across the board without punctuations\n",
        "\n",
        " - #hypothesis9: same as original text with punctuations\n",
        " - #hypothesis10: small letters across the board with punctuations\n",
        " - #hypothesis11: small letters across the board without punctuations\n",
        " - #hypothesis12: small letters across the board without punctuations"
      ],
      "metadata": {
        "id": "jKK1eYa1ZIRD"
      }
    },
    {
      "cell_type": "code",
      "source": [
        "from tensorflow.keras.preprocessing.text import text_to_word_sequence\n",
        "import string\n",
        "\n",
        "reference_text = \"The North Wind and the Sun were disputing which was the stronger, when a traveler came along wrapped in a warm cloak. They agreed that the one who first succeeded in making the traveler take his cloak off should be considered stronger than the other. Then the North Wind blew as hard as he could, but the more he blew the more closely did the traveler fold his cloak around him; and at last the North Wind gave up the attempt. Then the Sun shined out warmly, and immediately the traveler took off his cloak. And so the North Wind was obliged to confess that the Sun was the stronger of the two.\"\n",
        "convert2small_reference = reference_text.lower()\n",
        "\n",
        "# Remove punctuation marks\n",
        "translator = str.maketrans(\"\", \"\", string.punctuation)\n",
        "cleaned_reference = convert2small_reference.translate(translator)\n",
        "\n",
        "# Tokenize the cleaned reference text\n",
        "token_prefinal = text_to_word_sequence(cleaned_reference)\n",
        "sent_convert = ' '.join(token_prefinal)\n",
        "print('Tokenizing Words after Cleaning Punctuations: %s' % sent_convert)"
      ],
      "metadata": {
        "id": "bLdsx7qf8urZ",
        "outputId": "f7755236-4291-48b7-87ae-225e1fec9212",
        "colab": {
          "base_uri": "https://localhost:8080/"
        }
      },
      "execution_count": null,
      "outputs": [
        {
          "output_type": "stream",
          "name": "stdout",
          "text": [
            "Tokenizing Words after Cleaning Punctuations: the north wind and the sun were disputing which was the stronger when a traveler came along wrapped in a warm cloak they agreed that the one who first succeeded in making the traveler take his cloak off should be considered stronger than the other then the north wind blew as hard as he could but the more he blew the more closely did the traveler fold his cloak around him and at last the north wind gave up the attempt then the sun shined out warmly and immediately the traveler took off his cloak and so the north wind was obliged to confess that the sun was the stronger of the two\n"
          ]
        }
      ]
    },
    {
      "cell_type": "code",
      "source": [
        "# Original Full Text of 'The North Wind and the Sun' abbreviated as OFT\n",
        "!pip install numpy\n",
        "!pip install pandas\n",
        "!pip install Levenshtein\n",
        "\n",
        "import numpy as np\n",
        "import pandas as pd\n",
        "import Levenshtein\n",
        "\n",
        "def calculate_wer(reference, hypothesis):\n",
        "    reference_words = reference.split()\n",
        "    hypothesis_words = hypothesis.split()\n",
        "\n",
        "    # Compute Levenshtein distance between the reference and hypothesis\n",
        "    distance = Levenshtein.distance(reference_words, hypothesis_words)\n",
        "\n",
        "    # Calculate Word Error Rate (WER)\n",
        "    wer = distance / len(reference_words)\n",
        "    return round(wer, 2)  # Round the WER to two decimal places. >>return wer 라고 code line 쓰면, longer decimal places for default\n",
        "\n",
        "# Calculate WER for each pair of texts\n",
        "reference_texts = [\n",
        "    \"the north wind and the sun were disputing which was the stronger when a traveler came along wrapped in a warm cloak they agreed that the one who first succeeded in making the traveler take his cloak off should be considered stronger than the other then the north wind blew as hard as he could but the more he blew the more closely did the traveler fold his cloak around him and at last the north wind gave up the attempt then the sun shined out warmly and immediately the traveler took off his cloak and so the north wind was obliged to confess that the sun was the stronger of the two\",\n",
        "    \"the north wind and the sun were disputing which was the stronger when a traveler came along wrapped in a warm cloak they agreed that the one who first succeeded in making the traveler take his cloak off should be considered stronger than the other then the north wind blew as hard as he could but the more he blew the more closely did the traveler fold his cloak around him and at last the north wind gave up the attempt then the sun shined out warmly and immediately the traveler took off his cloak and so the north wind was obliged to confess that the sun was the stronger of the two\",\n",
        "    \"the north wind and the sun were disputing which was the stronger when a traveler came along wrapped in a warm cloak they agreed that the one who first succeeded in making the traveler take his cloak off should be considered stronger than the other then the north wind blew as hard as he could but the more he blew the more closely did the traveler fold his cloak around him and at last the north wind gave up the attempt then the sun shined out warmly and immediately the traveler took off his cloak and so the north wind was obliged to confess that the sun was the stronger of the two\",\n",
        "    \"the north wind and the sun were disputing which was the stronger when a traveler came along wrapped in a warm cloak they agreed that the one who first succeeded in making the traveler take his cloak off should be considered stronger than the other then the north wind blew as hard as he could but the more he blew the more closely did the traveler fold his cloak around him and at last the north wind gave up the attempt then the sun shined out warmly and immediately the traveler took off his cloak and so the north wind was obliged to confess that the sun was the stronger of the two\",\n",
        "    \"the north wind and the sun were disputing which was the stronger when a traveler came along wrapped in a warm cloak they agreed that the one who first succeeded in making the traveler take his cloak off should be considered stronger than the other then the north wind blew as hard as he could but the more he blew the more closely did the traveler fold his cloak around him and at last the north wind gave up the attempt then the sun shined out warmly and immediately the traveler took off his cloak and so the north wind was obliged to confess that the sun was the stronger of the two\",\n",
        "    \"the north wind and the sun were disputing which was the stronger when a traveler came along wrapped in a warm cloak they agreed that the one who first succeeded in making the traveler take his cloak off should be considered stronger than the other then the north wind blew as hard as he could but the more he blew the more closely did the traveler fold his cloak around him and at last the north wind gave up the attempt then the sun shined out warmly and immediately the traveler took off his cloak and so the north wind was obliged to confess that the sun was the stronger of the two\",\n",
        "    \"the north wind and the sun were disputing which was the stronger when a traveler came along wrapped in a warm cloak they agreed that the one who first succeeded in making the traveler take his cloak off should be considered stronger than the other then the north wind blew as hard as he could but the more he blew the more closely did the traveler fold his cloak around him and at last the north wind gave up the attempt then the sun shined out warmly and immediately the traveler took off his cloak and so the north wind was obliged to confess that the sun was the stronger of the two\",\n",
        "    \"the north wind and the sun were disputing which was the stronger when a traveler came along wrapped in a warm cloak they agreed that the one who first succeeded in making the traveler take his cloak off should be considered stronger than the other then the north wind blew as hard as he could but the more he blew the more closely did the traveler fold his cloak around him and at last the north wind gave up the attempt then the sun shined out warmly and immediately the traveler took off his cloak and so the north wind was obliged to confess that the sun was the stronger of the two\"\n",
        "]\n",
        "\n",
        "hypothesis_texts = [\"the nurse wind and the sun world is building which was the stronger when a traveler came or not wrapped in a warm cup they are with that the one who first succeed in making the traveler take his clothes off should be considered stronger than the other than the north wind blow as hard as he could but the more he blew the more closely the traveler for the clock around him and i left the north wind gave up the attempt in the sun in the sky shine out of me and immediately was over to confess that the song was the stronger of the\",\n",
        "                    \"the nursing and the sun world is putting which was stronger when i travel i came along work in a warm clock they are really that the one who first to succeed in making the traveler take his clock up should be considered stronger than the other than the nurse wind blew as hard as he could but don't worry he blew the more closely together for his club around him and i lost the nursery nursery\",\n",
        "                    \"the nurse win and the song world is cooking which was stronger when a traveler came around worked in the alarm clock they are really that the one who first succeed in making the traveler take his clock up should be considered stronger than the other then the nurse wind blew as hard as he could but the more he blew the more closely to travel for his club around him and endless the nursery was over there to confess that the song was the stronger of the\",\n",
        "                    \"the nurse wind and the sun world is putting this was the stronger when a traveler came along rough in the warm clock they already that the one who first succeeded in making the traveler take his clock off should be considered a stronger than the other than the north wind blow us hard as he could put the more he blew the more closely did the travel or for his clock around him and ellis the north wind gave up the attempt in the song in the sky shine at warmly and immediately was over to confess that the sun was the stronger of the\",\n",
        "                    \"the nurse wind and the sun world is putting which was the stronger when the traveler came or not in the room clock they agreed that the one who first succeed in making the traveler take his clothes off should be considered stronger than the other than the north wind blew as hard as he could but the more he blew the more closely did the tabular for his club around him and i left the last the nursery was over to confess that the song was the stronger of\",\n",
        "                    \"what's the nurse mean and the song where they speaking which was the stronger when a traveler came along rough in a warm clock they agree that the one who first succeeded in making the traveler take his clothes off should be considered stronger than the other than the nurse wind blew as hard as he could the more he blew the more closely together for his clock around him and unless the nurse wind gave up the attempt then the song in the shine out only and immediately to traveling was over to confess that the song was the stronger of the\",\n",
        "                    \"the nurse wind and the sun was disputing which was the stronger when a traveler came along route in the warm cloth they are great that the one who first succeeded in making the traveler take his clothes off should be considered stronger than the other then the nurse wind blew as hard as he could but the more he blew the more closely with his clock around him and i left and there's one game of the attempt in the song in the sky shine out warmly and immediately to travel to the nurse when was obligated to confess that the sun was the stronger of the\",\n",
        "                    \"the nurse wind and the sun world is putting which was the stronger when a traveler came along work in a warm clothes they are reset the one who first succeeded in making the traveler take his clock of should be considered stronger than the other than the nurse wind blew as hard as he could but the more he blew the more closely did the traveler for his club around him and i'll ask him the song in the sky shine out lonely and immediately the traveling was the stronger of the\"\n",
        "]\n",
        "\n",
        "wer_values = []\n",
        "for reference, hypothesis in zip(reference_texts, hypothesis_texts):\n",
        "    wer = calculate_wer(reference, hypothesis)\n",
        "    wer_values.append(wer)\n",
        "\n",
        "# Create a DataFrame from the WER values\n",
        "df = pd.DataFrame(np.array(wer_values).reshape(-1, 1), columns=['WER'])\n",
        "df.index = [\"Full Text of 'The Nor {}\".format(i+1) for i in range(len(wer_values))]\n",
        "\n",
        "print(df)\n",
        "\n",
        "output_file = 'subj1_fulltext.xlsx'\n",
        "df.to_excel(output_file, index=False)"
      ],
      "metadata": {
        "id": "Mg470zPla7-s",
        "colab": {
          "base_uri": "https://localhost:8080/"
        },
        "outputId": "b2b18762-23f8-4f7f-bb82-8163e2a8e231"
      },
      "execution_count": 2,
      "outputs": [
        {
          "output_type": "stream",
          "name": "stdout",
          "text": [
            "Requirement already satisfied: numpy in /usr/local/lib/python3.10/dist-packages (1.22.4)\n",
            "Requirement already satisfied: pandas in /usr/local/lib/python3.10/dist-packages (1.5.3)\n",
            "Requirement already satisfied: python-dateutil>=2.8.1 in /usr/local/lib/python3.10/dist-packages (from pandas) (2.8.2)\n",
            "Requirement already satisfied: pytz>=2020.1 in /usr/local/lib/python3.10/dist-packages (from pandas) (2022.7.1)\n",
            "Requirement already satisfied: numpy>=1.21.0 in /usr/local/lib/python3.10/dist-packages (from pandas) (1.22.4)\n",
            "Requirement already satisfied: six>=1.5 in /usr/local/lib/python3.10/dist-packages (from python-dateutil>=2.8.1->pandas) (1.16.0)\n",
            "Collecting Levenshtein\n",
            "  Downloading Levenshtein-0.21.1-cp310-cp310-manylinux_2_17_x86_64.manylinux2014_x86_64.whl (172 kB)\n",
            "\u001b[2K     \u001b[90m━━━━━━━━━━━━━━━━━━━━━━━━━━━━━━━━━━━━━━━\u001b[0m \u001b[32m172.5/172.5 kB\u001b[0m \u001b[31m4.5 MB/s\u001b[0m eta \u001b[36m0:00:00\u001b[0m\n",
            "\u001b[?25hCollecting rapidfuzz<4.0.0,>=2.3.0 (from Levenshtein)\n",
            "  Downloading rapidfuzz-3.1.1-cp310-cp310-manylinux_2_17_x86_64.manylinux2014_x86_64.whl (3.1 MB)\n",
            "\u001b[2K     \u001b[90m━━━━━━━━━━━━━━━━━━━━━━━━━━━━━━━━━━━━━━━━\u001b[0m \u001b[32m3.1/3.1 MB\u001b[0m \u001b[31m44.3 MB/s\u001b[0m eta \u001b[36m0:00:00\u001b[0m\n",
            "\u001b[?25hInstalling collected packages: rapidfuzz, Levenshtein\n",
            "Successfully installed Levenshtein-0.21.1 rapidfuzz-3.1.1\n",
            "                          WER\n",
            "Full Text of 'The Nor 1  0.33\n",
            "Full Text of 'The Nor 2  0.58\n",
            "Full Text of 'The Nor 3  0.48\n",
            "Full Text of 'The Nor 4  0.35\n",
            "Full Text of 'The Nor 5  0.41\n",
            "Full Text of 'The Nor 6  0.35\n",
            "Full Text of 'The Nor 7  0.35\n",
            "Full Text of 'The Nor 8  0.39\n"
          ]
        }
      ]
    },
    {
      "cell_type": "markdown",
      "source": [
        "###**🌵  3. STT (subj1, rep1, sentence1, original)**"
      ],
      "metadata": {
        "id": "TGzZW3DS8aw1"
      }
    },
    {
      "cell_type": "code",
      "source": [
        "!pip install SpeechRecognition\n",
        "import speech_recognition as sr\n",
        "import os\n",
        "\n",
        "def convert_speech_to_text(audio_file):\n",
        "    recognizer = sr.Recognizer()\n",
        "\n",
        "    with sr.AudioFile(audio_file) as source:\n",
        "        audio = recognizer.record(source)  # Load the audio file\n",
        "\n",
        "    text = recognizer.recognize_google(audio)  # Use Google Speech Recognition API\n",
        "    lowercase_text = text.lower()  # Convert the text to lowercase\n",
        "\n",
        "    return lowercase_text\n",
        "\n",
        "def count_words(text):\n",
        "    words = text.split()  # Split the text into words\n",
        "    return len(words)    # Return the count of words\n",
        "\n",
        "# Path to the folder containing the WAV files\n",
        "folder_path = \"/content/sample_data/subj1_sent_8rep\"\n",
        "\n",
        "# Iterate over the files in the folder\n",
        "for filename in os.listdir(folder_path):\n",
        "    if filename.endswith(\".wav\"):\n",
        "        audio_file = os.path.join(folder_path, filename)\n",
        "\n",
        "        converted_text = convert_speech_to_text(audio_file)  # Convert speech to text\n",
        "\n",
        "        word_count = count_words(converted_text)  # Count the words in the converted text\n",
        "\n",
        "        print(f\"File: {filename}\")\n",
        "        print(f\"Text: {converted_text}\")\n",
        "        print(f\"Word Count: {word_count}\\n\")"
      ],
      "metadata": {
        "colab": {
          "base_uri": "https://localhost:8080/"
        },
        "id": "6bxfabYsAEwk",
        "outputId": "1c7c131b-17c7-4a82-d4e3-a765d46bf3c2"
      },
      "execution_count": 3,
      "outputs": [
        {
          "output_type": "stream",
          "name": "stdout",
          "text": [
            "Requirement already satisfied: SpeechRecognition in /usr/local/lib/python3.10/dist-packages (3.10.0)\n",
            "Requirement already satisfied: requests>=2.26.0 in /usr/local/lib/python3.10/dist-packages (from SpeechRecognition) (2.27.1)\n",
            "Requirement already satisfied: urllib3<1.27,>=1.21.1 in /usr/local/lib/python3.10/dist-packages (from requests>=2.26.0->SpeechRecognition) (1.26.16)\n",
            "Requirement already satisfied: certifi>=2017.4.17 in /usr/local/lib/python3.10/dist-packages (from requests>=2.26.0->SpeechRecognition) (2023.5.7)\n",
            "Requirement already satisfied: charset-normalizer~=2.0.0 in /usr/local/lib/python3.10/dist-packages (from requests>=2.26.0->SpeechRecognition) (2.0.12)\n",
            "Requirement already satisfied: idna<4,>=2.5 in /usr/local/lib/python3.10/dist-packages (from requests>=2.26.0->SpeechRecognition) (3.4)\n",
            "File: subj1_sent6.wav\n",
            "Text: what's the nurse mean and the song where they speaking which was the stronger when a traveler came along rough in a warm\n",
            "Word Count: 23\n",
            "\n",
            "File: subj1_sent7.wav\n",
            "Text: the nurse wind and the sun was disputing which was the stronger when a traveler came along route in the warm clothes\n",
            "Word Count: 22\n",
            "\n",
            "File: subj1_sent3.wav\n",
            "Text: the nurse win and the song world is cooking which was stronger when a traveler came around worked in the warm\n",
            "Word Count: 21\n",
            "\n",
            "File: subj1_sent4.wav\n",
            "Text: the north wind and the sun world is putting this was the stronger when a traveler came along rough in the warm\n",
            "Word Count: 22\n",
            "\n",
            "File: subj1_sent8.wav\n",
            "Text: the nurse wind and the sun world is building which was the stronger when a traveler came or not wrapped in a warm cup\n",
            "Word Count: 24\n",
            "\n",
            "File: subj1_sent1.wav\n",
            "Text: the nurse wind and the sun world is putting which was the stronger when a traveler came along work in a warm\n",
            "Word Count: 22\n",
            "\n",
            "File: subj1_sent2.wav\n",
            "Text: the nursing and the sun world is putting which was stronger when i travel i came along work in a warm\n",
            "Word Count: 21\n",
            "\n",
            "File: subj1_sent5.wav\n",
            "Text: the nurse wind and the sun world is putting which was the stronger when the traveler came or not in a room\n",
            "Word Count: 22\n",
            "\n"
          ]
        }
      ]
    },
    {
      "cell_type": "markdown",
      "source": [
        "###**🌵  4 WER (subj1, rep1, sentence1, original)**"
      ],
      "metadata": {
        "id": "-vauZFNEZVDA"
      }
    },
    {
      "cell_type": "code",
      "source": [
        "import numpy as np\n",
        "import pandas as pd\n",
        "import Levenshtein\n",
        "\n",
        "def calculate_wer(reference, hypothesis):\n",
        "    reference_words = reference.split()\n",
        "    hypothesis_words = hypothesis.split()\n",
        "\n",
        "    # Compute Levenshtein distance between the reference and hypothesis\n",
        "    distance = Levenshtein.distance(reference_words, hypothesis_words)\n",
        "\n",
        "    # Calculate Word Error Rate (WER)\n",
        "    wer = distance / len(reference_words)\n",
        "    return round(wer, 2)  # Round the WER to two decimal places. >>return wer 라고 code line 쓰면, longer decimal places for default\n",
        "\n",
        "# Calculate WER for each pair of texts\n",
        "reference_texts = [\n",
        "    \"the north wind and the sun were disputing which was the stronger when a traveler came along wrapped in a warm cloak \",\n",
        "    \"the north wind and the sun were disputing which was the stronger when a traveler came along wrapped in a warm cloak \",\n",
        "    \"the north wind and the sun were disputing which was the stronger when a traveler came along wrapped in a warm cloak \",\n",
        "    \"the north wind and the sun were disputing which was the stronger when a traveler came along wrapped in a warm cloak \",\n",
        "    \"the north wind and the sun were disputing which was the stronger when a traveler came along wrapped in a warm cloak \",\n",
        "    \"the north wind and the sun were disputing which was the stronger when a traveler came along wrapped in a warm cloak \",\n",
        "    \"the north wind and the sun were disputing which was the stronger when a traveler came along wrapped in a warm cloak \",\n",
        "    \"the north wind and the sun were disputing which was the stronger when a traveler came along wrapped in a warm cloak \",\n",
        "]\n",
        "\n",
        "hypothesis_texts = [\"the nurse wind and the sun world is putting which was the stronger when a traveler came along work in a warm\",\n",
        "                    \"the nursing and the sun world is putting which was stronger when i travel i came along work in a warm\",\n",
        "                    \"the nurse win and the song world is cooking which was stronger when a traveler came around worked in the warm\",\n",
        "                    \"the north wind and the sun world is putting this was the stronger when a traveler came along rough in the warm\",\n",
        "                    \"the nurse wind and the sun world is putting which was the stronger when the traveler came or not in a room\",\n",
        "                    \"what's the nurse mean and the song where they speaking which was the stronger when a traveler came along rough in a warm\",\n",
        "                    \"the nurse wind and the sun was disputing which was the stronger when a traveler came along route in the warm clothes\",\n",
        "                    \"the nurse wind and the sun world is building which was the stronger when a traveler came or not wrapped in a warm cup\"\n",
        "]\n",
        "\n",
        "wer_values = []\n",
        "for reference, hypothesis in zip(reference_texts, hypothesis_texts):\n",
        "    wer = calculate_wer(reference, hypothesis)\n",
        "    wer_values.append(wer)\n",
        "\n",
        "# Create a DataFrame from the WER values\n",
        "df = pd.DataFrame(np.array(wer_values).reshape(-1, 1), columns=['WER'])\n",
        "df.index = [\"Sentence1 of 'the North Wind and the Sun'{}\".format(i+1) for i in range(len(wer_values))]\n",
        "\n",
        "print(df)\n",
        "\n",
        "output_file = 'subj1_sentence1.xlsx'\n",
        "df.to_excel(output_file, index=False)"
      ],
      "metadata": {
        "id": "dfaro8QIaB0x",
        "colab": {
          "base_uri": "https://localhost:8080/"
        },
        "outputId": "f206dd7e-ca8f-4a9f-b9f4-7d688bbd4020"
      },
      "execution_count": 5,
      "outputs": [
        {
          "output_type": "stream",
          "name": "stdout",
          "text": [
            "                                             WER\n",
            "Sentence1 of 'the North Wind and the Sun'1  0.27\n",
            "Sentence1 of 'the North Wind and the Sun'2  0.50\n",
            "Sentence1 of 'the North Wind and the Sun'3  0.50\n",
            "Sentence1 of 'the North Wind and the Sun'4  0.32\n",
            "Sentence1 of 'the North Wind and the Sun'5  0.41\n",
            "Sentence1 of 'the North Wind and the Sun'6  0.41\n",
            "Sentence1 of 'the North Wind and the Sun'7  0.23\n",
            "Sentence1 of 'the North Wind and the Sun'8  0.32\n"
          ]
        }
      ]
    },
    {
      "cell_type": "code",
      "source": [
        "hypothesis_texts = [\"\",\n",
        "                    \"\",\n",
        "                    \"\",\n",
        "                    \"\",\n",
        "                    \"\",\n",
        "                    \"\",\n",
        "                    \"\",\n",
        "                    \"\""
      ],
      "metadata": {
        "id": "540HLgmFow9o"
      },
      "execution_count": null,
      "outputs": []
    },
    {
      "cell_type": "markdown",
      "source": [],
      "metadata": {
        "id": "9XToStaxqE-o"
      }
    }
  ]
}