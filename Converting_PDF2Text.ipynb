{
  "nbformat": 4,
  "nbformat_minor": 0,
  "metadata": {
    "colab": {
      "provenance": [],
      "authorship_tag": "ABX9TyMS1nmTALx/gBUiWZ7abVJ9",
      "include_colab_link": true
    },
    "kernelspec": {
      "name": "python3",
      "display_name": "Python 3"
    },
    "language_info": {
      "name": "python"
    }
  },
  "cells": [
    {
      "cell_type": "markdown",
      "metadata": {
        "id": "view-in-github",
        "colab_type": "text"
      },
      "source": [
        "<a href=\"https://colab.research.google.com/github/ms624atyale/CL4Research/blob/main/Converting_PDF2Text.ipynb\" target=\"_parent\"><img src=\"https://colab.research.google.com/assets/colab-badge.svg\" alt=\"Open In Colab\"/></a>"
      ]
    },
    {
      "cell_type": "markdown",
      "source": [
        "When dealing with scanned PDF documents, which are essentially images, you need to perform Optical Character Recognition (OCR) to extract the text. One popular Python library for OCR is Tesseract. Here's an example code snippet using the pytesseract library, which provides an interface to Tesseract:\n",
        "\n",
        "In this example, the pdf_scanned_to_text() function takes the path to the scanned PDF file as input and returns the extracted text. It uses the pytesseract library to perform OCR on each page of the PDF. The PDF is opened using the Image.open() function from the PIL (Pillow) library and converted to RGB format. Then, the image_to_string() function from pytesseract is used to extract the text from the image of each page.\n",
        "\n",
        "Make sure to install the required libraries by running pip install pytesseract pillow. Additionally, you need to have Tesseract OCR installed on your system. Instructions for installing Tesseract can be found in the Tesseract documentation for your specific operating system.\n",
        "\n",
        "Keep in mind that OCR accuracy may vary depending on the quality of the scanned document, the clarity of the text, and the font used. Preprocessing techniques such as image enhancement, noise reduction, or deskewing might be necessary to improve the OCR results."
      ],
      "metadata": {
        "id": "3D-g18h1DE-2"
      }
    },
    {
      "cell_type": "code",
      "source": [
        "!pip install pytesseract\n",
        "import pytesseract\n",
        "from PIL import Image\n",
        "\n",
        "def pdf_scanned_to_text(pdf_path):\n",
        "    text = \"\"\n",
        "    with open(pdf_path, 'rb') as file:\n",
        "        pdf = Image.open(file)\n",
        "        num_pages = pdf.n_frames if hasattr(pdf, \"n_frames\") else 1\n",
        "        for page in range(num_pages):\n",
        "            pdf.seek(page)\n",
        "            page_image = pdf.convert(\"RGB\")\n",
        "            page_text = pytesseract.image_to_string(page_image)\n",
        "            text += page_text + \"\\n\"\n",
        "    return text\n",
        "\n",
        "# Example usage\n",
        "pdf_file = \"path/to/your/file.pdf\" #Use scanned document later\n",
        "converted_text = pdf_scanned_to_text(pdf_file)\n",
        "print(converted_text)\n",
        "In this example, the pdf_scanned_to_text() function takes the path to the scanned PDF file as input and returns the extracted text. It uses the pytesseract library to perform OCR on each page of the PDF. The PDF is opened using the Image.open() function from the PIL (Pillow) library and converted to RGB format. Then, the image_to_string() function from pytesseract is used to extract the text from the image of each page.\n",
        "\n",
        "Make sure to install the required libraries by running pip install pytesseract pillow. Additionally, you need to have Tesseract OCR installed on your system. Instructions for installing Tesseract can be found in the Tesseract documentation for your specific operating system.\n",
        "\n",
        "Keep in mind that OCR accuracy may vary depending on the quality of the scanned document, the clarity of the text, and the font used. Preprocessing techniques such as image enhancement, noise reduction, or deskewing might be necessary to improve the OCR results.\n",
        "\n",
        "\n",
        "\n",
        "\n",
        "\n",
        "\n",
        "import pytesseract\n",
        "from PIL import Image\n",
        "\n",
        "def pdf_scanned_to_text(pdf_path):\n",
        "    text = \"\"\n",
        "    with open(pdf_path, 'rb') as file:\n",
        "        pdf = Image.open(file)\n",
        "        num_pages = pdf.n_frames if hasattr(pdf, \"n_frames\") else 1\n",
        "        for page in range(num_pages):\n",
        "            pdf.seek(page)\n",
        "            page_image = pdf.convert(\"RGB\")\n",
        "            page_text = pytesseract.image_to_string(page_image)\n",
        "            text += page_text + \"\\n\"\n",
        "    return text\n",
        "\n",
        "# Example usage\n",
        "pdf_file = \"path/to/your/file.pdf\"\n",
        "converted_text = pdf_scanned_to_text(pdf_file)\n",
        "print(converted_text)\n",
        "In this example, the pdf_scanned_to_text() function takes the path to the scanned PDF file as input and returns the extracted text. It uses the pytesseract library to perform OCR on each page of the PDF. The PDF is opened using the Image.open() function from the PIL (Pillow) library and converted to RGB format. Then, the image_to_string() function from pytesseract is used to extract the text from the image of each page.\n",
        "\n",
        "Make sure to install the required libraries by running pip install pytesseract pillow. Additionally, you need to have Tesseract OCR installed on your system. Instructions for installing Tesseract can be found in the Tesseract documentation for your specific operating system.\n",
        "\n",
        "Keep in mind that OCR accuracy may vary depending on the quality of the scanned document, the clarity of the text, and the font used. Preprocessing techniques such as image enhancement, noise reduction, or deskewing might be necessary to improve the OCR results.\n",
        "\n",
        "\n",
        "\n",
        "\n",
        "\n",
        "\n"
      ],
      "metadata": {
        "colab": {
          "base_uri": "https://localhost:8080/",
          "height": 184
        },
        "id": "7MpqtlKpDGKt",
        "outputId": "1878e003-167a-42d7-b9e0-17184588d4ca"
      },
      "execution_count": null,
      "outputs": [
        {
          "output_type": "error",
          "ename": "SyntaxError",
          "evalue": "ignored",
          "traceback": [
            "\u001b[0;36m  File \u001b[0;32m\"<ipython-input-1-f3775e7c1656>\"\u001b[0;36m, line \u001b[0;32m21\u001b[0m\n\u001b[0;31m    In this example, the pdf_scanned_to_text() function takes the path to the scanned PDF file as input and returns the extracted text. It uses the pytesseract library to perform OCR on each page of the PDF. The PDF is opened using the Image.open() function from the PIL (Pillow) library and converted to RGB format. Then, the image_to_string() function from pytesseract is used to extract the text from the image of each page.\u001b[0m\n\u001b[0m       ^\u001b[0m\n\u001b[0;31mSyntaxError\u001b[0m\u001b[0;31m:\u001b[0m invalid syntax\n"
          ]
        }
      ]
    },
    {
      "cell_type": "markdown",
      "source": [
        "In this example, the pdf_to_text() function takes the path to the PDF file as input and returns the extracted text. It opens the PDF file in binary mode, reads each page using the PdfFileReader class from PyPDF2, and extracts the text from each page using the extractText() method. The extracted text from all pages is concatenated and returned.\n",
        "\n",
        "Replace \"path/to/your/file.pdf\" with the actual path to your PDF file. After running the code, the extracted text will be printed to the console.\n",
        "\n",
        "Note that the text extraction from PDFs may not be perfect, especially for complex layouts or scanned documents. You may need to preprocess or apply additional techniques depending on the specific requirements of your PDF files."
      ],
      "metadata": {
        "id": "MjWmJUt_Cg1T"
      }
    },
    {
      "cell_type": "code",
      "execution_count": null,
      "metadata": {
        "id": "z94x5QdtCfLR"
      },
      "outputs": [],
      "source": [
        "import PyPDF2\n",
        "\n",
        "def pdf_to_text(pdf_path):\n",
        "    text = \"\"\n",
        "    with open(pdf_path, 'rb') as file:\n",
        "        reader = PyPDF2.PdfFileReader(file)\n",
        "        num_pages = reader.numPages\n",
        "        for page in range(num_pages):\n",
        "            page_obj = reader.getPage(page)\n",
        "            text += page_obj.extractText()\n",
        "    return text\n",
        "\n",
        "# Example usage\n",
        "pdf_file = \"path/to/your/file.pdf\"\n",
        "converted_text = pdf_to_text(pdf_file)\n",
        "print(converted_text)"
      ]
    }
  ]
}