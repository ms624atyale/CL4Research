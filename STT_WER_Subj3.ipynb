{
  "nbformat": 4,
  "nbformat_minor": 0,
  "metadata": {
    "colab": {
      "provenance": [],
      "authorship_tag": "ABX9TyMSdxjBQIenekgWTcnCI2m1",
      "include_colab_link": true
    },
    "kernelspec": {
      "name": "python3",
      "display_name": "Python 3"
    },
    "language_info": {
      "name": "python"
    }
  },
  "cells": [
    {
      "cell_type": "markdown",
      "metadata": {
        "id": "view-in-github",
        "colab_type": "text"
      },
      "source": [
        "<a href=\"https://colab.research.google.com/github/ms624atyale/CL4Research/blob/main/STT_WER_Subj3.ipynb\" target=\"_parent\"><img src=\"https://colab.research.google.com/assets/colab-badge.svg\" alt=\"Open In Colab\"/></a>"
      ]
    },
    {
      "cell_type": "markdown",
      "source": [
        "In this modified code, the convert_speech_to_text() function remains the same as before, which converts speech to text using Google STT. The count_words() function also remains the same, which counts the number of words in the text.\n",
        "\n",
        "The code iterates over the WAV files in the specified folder. For each WAV file, it converts the speech to text using convert_speech_to_text(), then counts the number of words in the converted text using count_words(). Finally, it prints the filename, converted text, and word count for each WAV file.\n",
        "\n",
        "Make sure to adjust the folder_path variable to the actual path of your WAV files. After making these adjustments, run the code, and it will apply Google STT on each WAV file, retrieve the converted text, and count the number of words in the text for each WAV file."
      ],
      "metadata": {
        "id": "qQVtTYE72IgK"
      }
    },
    {
      "cell_type": "markdown",
      "source": [
        "###**🐹 <font color = 'brown'> google STT (SpeechRecognition package) applied to a list of oritinal wav. files and their corresponding word count** ⤵️\n",
        "\n",
        "###**🌵 1. STT (subj1, rep1, all text, original)**"
      ],
      "metadata": {
        "id": "fXvHSq8o74HD"
      }
    },
    {
      "cell_type": "code",
      "source": [
        "!pip install SpeechRecognition\n",
        "import speech_recognition as sr\n",
        "import os\n",
        "\n",
        "def convert_speech_to_text(audio_file):\n",
        "    recognizer = sr.Recognizer()\n",
        "\n",
        "    with sr.AudioFile(audio_file) as source:\n",
        "        audio = recognizer.record(source)  # Load the audio file\n",
        "\n",
        "    text = recognizer.recognize_google(audio)  # Use Google Speech Recognition API\n",
        "    lowercase_text = text.lower()  # Convert the text to lowercase\n",
        "\n",
        "    return lowercase_text\n",
        "\n",
        "def count_words(text):\n",
        "    words = text.split()  # Split the text into words\n",
        "    return len(words)    # Return the count of words\n",
        "\n",
        "# Path to the folder containing the WAV files\n",
        "folder_path = \"/content/sample_data/subj2_para_8rep\"\n",
        "\n",
        "# Iterate over the files in the folder\n",
        "for filename in os.listdir(folder_path):\n",
        "    if filename.endswith(\".wav\"):\n",
        "        audio_file = os.path.join(folder_path, filename)\n",
        "\n",
        "        converted_text = convert_speech_to_text(audio_file)  # Convert speech to text\n",
        "\n",
        "        word_count = count_words(converted_text)  # Count the words in the converted text\n",
        "\n",
        "        print(f\"File: {filename}\")\n",
        "        print(f\"Text: {converted_text}\")\n",
        "        print(f\"Word Count: {word_count}\\n\")"
      ],
      "metadata": {
        "id": "teUoaGzw2s7V"
      },
      "execution_count": null,
      "outputs": []
    },
    {
      "cell_type": "code",
      "source": [
        "hypothesis_texts = [\"the nurse wind and the sun world is building which was the stronger when a traveler came along work in a warm clock they are reset the one who first succeeded in making the traveler take his clock of should be considered stronger than the other than the nurse wind blew as hard as he could but the more he blew the more closely the traveler from his club around him and i lost the nursery and immediately go traveling was only\",\n",
        "                    \"the nursery and the sun world is putting which was stronger when i travel i came along work in a warm club they are really that the one who forced to succeed in making the traveler take his clock of should be considered stronger than the other in the nurse main blue as hard as he could put them away he blew the more closely did the traveler for his club around him and i lost the nursery nursery\",\n",
        "                    \"the nurse win and the song world is putting which was stronger when a traveler came around worked in the alarm clock they are really that the one who first succeed in making the traveler take his clothes off should be considered stronger than the other then the nurse wind blew as hard as he could but\",\n",
        "                    \"the nurse wind and the sun world is putting this was the stronger when a traveler came along with the warm clock they are read that the one who first succeeded in making the traveler take his clock off should be considered a stronger than the other than the north wind blow us hard as he could put the more he blew the more closely did the traveler for his clock around him and unless the north wind gave up the tent in the song in the sky shine on me and immediately was alive to confess that the sun was the stronger of\",\n",
        "                    \"the nurse win and the song where they speak english with the stronger when the traveler came or not in the room clock they agreed that the one who first succeed in making the traveler take his clock off should be considered stronger than the other than the north wind blew as hard as he could put the more he blew the more closely did the turbo for his club around him and i left the list the nursery was over to confess that the song was the stronger of the two\",\n",
        "                    \"the nurse mean and the song world is putting which was the stronger when a traveler came along rough in a warm clock they agreed that the one who first succeeded in making the traveler take his clothes off should be considered stronger than the other than the nurse wind blew as hard as he could the more he blew the more closely together for his clock around him and i left the nursery was obviously to confess that the song was the stronger of the two\",\n",
        "                    \"the nurse win and the sun was disputing which was the stronger when a traveler came along route in the warm clothes they are great that the one who first succeeded in making the traveler take his clothes off should be considered stronger than the other than the nurse wind blew as hard as he could but the more he blew the more closely the doctor for his clock around him and i left and there's one game of the attempt in the sun in the sky shine at warmly and immediately to travel to the nurse when was over to confess that the sun was the stronger of the two\",\n",
        "                    \"the nurse win and the sun was disputing which was the stronger when a traveler came along route in the warm clothes they are great that the one who first succeeded in making the traveler take his clothes off should be considered stronger than the other than the nurse wind blew as hard as he could but the more he blew the more closely the doctor for his clock around him and i left and there's one game of the attempt in the sun in the sky shine at warmly and immediately to travel to the nurse when was over to confess that the sun was the stronger of the two\",\n",
        "                    \"the north wind and the sun were disputing which was the stronger, when a traveler came along wrapped in a warm cloak. they agreed that the one who first succeeded in making the traveler take his cloak off should be considered stronger than the other. then the north wind blew as hard as he could, but the more he blew the more closely did the traveler fold his cloak around him; and at last the north wind gave up the attempt. then the sun shined out warmly, and immediately the traveler took off his cloak. and so the north wind was obliged to confess that the sun was the stronger of the two.\",\n",
        "                    \"the north wind and the sun were disputing which was the stronger when a traveler came along wrapped in a warm cloak they agreed that the one who first succeeded in making the traveler take his cloak off should be considered stronger than the other then the north wind blew as hard as he could but the more he blew the more closely did the traveler fold his cloak around him and at last the north wind gave up the attempt then the sun shined out warmly and immediately the traveler took off his cloak and so the north wind was obliged to confess that the sun was the stronger of the two\"\n",
        "]\n"
      ],
      "metadata": {
        "id": "kO2-b7M_9YlS"
      },
      "execution_count": null,
      "outputs": []
    },
    {
      "cell_type": "markdown",
      "source": [
        "###**🌵 2. WER (subj1, rep1, all text, original)**\n",
        "  - Full Text: North Wind and the Sun were disputing which was the stronger, when a traveler came along wrapped in a warm cloak. They agreed that the one who first succeeded in making the traveler take his cloak off should be considered stronger than the other. Then the North Wind blew as hard as he could, but the more he blew the more closely did the traveler fold his cloak around him; and at last the North Wind gave up the attempt. Then the Sun shined out warmly, and immediately the traveler took off his cloak. And so the North Wind was obliged to confess that the Sun was the stronger of the two.\n",
        "  \n",
        " - #reference12: small letters across the board without punctuations\n",
        "\n",
        " - #hypothesis9: same as original text with punctuations\n",
        " - #hypothesis10: small letters across the board with punctuations\n",
        " - #hypothesis11: small letters across the board without punctuations\n",
        " - #hypothesis12: small letters across the board without punctuations"
      ],
      "metadata": {
        "id": "jKK1eYa1ZIRD"
      }
    },
    {
      "cell_type": "code",
      "source": [
        "from tensorflow.keras.preprocessing.text import text_to_word_sequence\n",
        "import string\n",
        "\n",
        "reference_text = \"The North Wind and the Sun were disputing which was the stronger, when a traveler came along wrapped in a warm cloak. They agreed that the one who first succeeded in making the traveler take his cloak off should be considered stronger than the other. Then the North Wind blew as hard as he could, but the more he blew the more closely did the traveler fold his cloak around him; and at last the North Wind gave up the attempt. Then the Sun shined out warmly, and immediately the traveler took off his cloak. And so the North Wind was obliged to confess that the Sun was the stronger of the two.\"\n",
        "convert2small_reference = reference_text.lower()\n",
        "\n",
        "# Remove punctuation marks\n",
        "translator = str.maketrans(\"\", \"\", string.punctuation)\n",
        "cleaned_reference = convert2small_reference.translate(translator)\n",
        "\n",
        "# Tokenize the cleaned reference text\n",
        "token_prefinal = text_to_word_sequence(cleaned_reference)\n",
        "sent_convert = ' '.join(token_prefinal)\n",
        "print('Tokenizing Words after Cleaning Punctuations: %s' % sent_convert)"
      ],
      "metadata": {
        "id": "bLdsx7qf8urZ",
        "outputId": "f7755236-4291-48b7-87ae-225e1fec9212",
        "colab": {
          "base_uri": "https://localhost:8080/"
        }
      },
      "execution_count": null,
      "outputs": [
        {
          "output_type": "stream",
          "name": "stdout",
          "text": [
            "Tokenizing Words after Cleaning Punctuations: the north wind and the sun were disputing which was the stronger when a traveler came along wrapped in a warm cloak they agreed that the one who first succeeded in making the traveler take his cloak off should be considered stronger than the other then the north wind blew as hard as he could but the more he blew the more closely did the traveler fold his cloak around him and at last the north wind gave up the attempt then the sun shined out warmly and immediately the traveler took off his cloak and so the north wind was obliged to confess that the sun was the stronger of the two\n"
          ]
        }
      ]
    },
    {
      "cell_type": "code",
      "source": [
        "# Original Full Text of 'The North Wind and the Sun' abbreviated as OFT\n",
        "!pip install numpy\n",
        "!pip install pandas\n",
        "!pip install Levenshtein\n",
        "\n",
        "import numpy as np\n",
        "import pandas as pd\n",
        "import Levenshtein\n",
        "\n",
        "def calculate_wer(reference, hypothesis):\n",
        "    reference_words = reference.split()\n",
        "    hypothesis_words = hypothesis.split()\n",
        "\n",
        "    # Compute Levenshtein distance between the reference and hypothesis\n",
        "    distance = Levenshtein.distance(reference_words, hypothesis_words)\n",
        "\n",
        "    # Calculate Word Error Rate (WER)\n",
        "    wer = distance / len(reference_words)\n",
        "    return round(wer, 2)  # Round the WER to two decimal places. >>return wer 라고 code line 쓰면, longer decimal places for default\n",
        "\n",
        "# Calculate WER for each pair of texts\n",
        "reference_texts = [\n",
        "    \"the north wind and the sun were disputing which was the stronger when a traveler came along wrapped in a warm cloak they agreed that the one who first succeeded in making the traveler take his cloak off should be considered stronger than the other then the north wind blew as hard as he could but the more he blew the more closely did the traveler fold his cloak around him and at last the north wind gave up the attempt then the sun shined out warmly and immediately the traveler took off his cloak and so the north wind was obliged to confess that the sun was the stronger of the two\",\n",
        "    \"the north wind and the sun were disputing which was the stronger when a traveler came along wrapped in a warm cloak they agreed that the one who first succeeded in making the traveler take his cloak off should be considered stronger than the other then the north wind blew as hard as he could but the more he blew the more closely did the traveler fold his cloak around him and at last the north wind gave up the attempt then the sun shined out warmly and immediately the traveler took off his cloak and so the north wind was obliged to confess that the sun was the stronger of the two\",\n",
        "    \"the north wind and the sun were disputing which was the stronger when a traveler came along wrapped in a warm cloak they agreed that the one who first succeeded in making the traveler take his cloak off should be considered stronger than the other then the north wind blew as hard as he could but the more he blew the more closely did the traveler fold his cloak around him and at last the north wind gave up the attempt then the sun shined out warmly and immediately the traveler took off his cloak and so the north wind was obliged to confess that the sun was the stronger of the two\",\n",
        "    \"the north wind and the sun were disputing which was the stronger when a traveler came along wrapped in a warm cloak they agreed that the one who first succeeded in making the traveler take his cloak off should be considered stronger than the other then the north wind blew as hard as he could but the more he blew the more closely did the traveler fold his cloak around him and at last the north wind gave up the attempt then the sun shined out warmly and immediately the traveler took off his cloak and so the north wind was obliged to confess that the sun was the stronger of the two\",\n",
        "    \"the north wind and the sun were disputing which was the stronger when a traveler came along wrapped in a warm cloak they agreed that the one who first succeeded in making the traveler take his cloak off should be considered stronger than the other then the north wind blew as hard as he could but the more he blew the more closely did the traveler fold his cloak around him and at last the north wind gave up the attempt then the sun shined out warmly and immediately the traveler took off his cloak and so the north wind was obliged to confess that the sun was the stronger of the two\",\n",
        "    \"the north wind and the sun were disputing which was the stronger when a traveler came along wrapped in a warm cloak they agreed that the one who first succeeded in making the traveler take his cloak off should be considered stronger than the other then the north wind blew as hard as he could but the more he blew the more closely did the traveler fold his cloak around him and at last the north wind gave up the attempt then the sun shined out warmly and immediately the traveler took off his cloak and so the north wind was obliged to confess that the sun was the stronger of the two\",\n",
        "    \"the north wind and the sun were disputing which was the stronger when a traveler came along wrapped in a warm cloak they agreed that the one who first succeeded in making the traveler take his cloak off should be considered stronger than the other then the north wind blew as hard as he could but the more he blew the more closely did the traveler fold his cloak around him and at last the north wind gave up the attempt then the sun shined out warmly and immediately the traveler took off his cloak and so the north wind was obliged to confess that the sun was the stronger of the two\",\n",
        "    \"the north wind and the sun were disputing which was the stronger when a traveler came along wrapped in a warm cloak they agreed that the one who first succeeded in making the traveler take his cloak off should be considered stronger than the other then the north wind blew as hard as he could but the more he blew the more closely did the traveler fold his cloak around him and at last the north wind gave up the attempt then the sun shined out warmly and immediately the traveler took off his cloak and so the north wind was obliged to confess that the sun was the stronger of the two\"\n",
        "]\n",
        "\n",
        "hypothesis_texts = [\n",
        "\n",
        "wer_values = []\n",
        "for reference, hypothesis in zip(reference_texts, hypothesis_texts):\n",
        "    wer = calculate_wer(reference, hypothesis)\n",
        "    wer_values.append(wer)\n",
        "\n",
        "# Create a DataFrame from the WER values\n",
        "df = pd.DataFrame(np.array(wer_values).reshape(-1, 1), columns=['WER'])\n",
        "df.index = [\"Full Text of 'The Nor {}\".format(i+1) for i in range(len(wer_values))]\n",
        "\n",
        "print(df)\n",
        "\n",
        "output_file = 'subj2_fulltext.xlsx'\n",
        "df.to_excel(output_file, index=False)"
      ],
      "metadata": {
        "id": "Mg470zPla7-s"
      },
      "execution_count": null,
      "outputs": []
    },
    {
      "cell_type": "markdown",
      "source": [
        "###**🌵  3. STT (subj1, rep1, sentence1, original)**"
      ],
      "metadata": {
        "id": "TGzZW3DS8aw1"
      }
    },
    {
      "cell_type": "code",
      "source": [
        "!pip install SpeechRecognition\n",
        "import speech_recognition as sr\n",
        "import os\n",
        "\n",
        "def convert_speech_to_text(audio_file):\n",
        "    recognizer = sr.Recognizer()\n",
        "\n",
        "    with sr.AudioFile(audio_file) as source:\n",
        "        audio = recognizer.record(source)  # Load the audio file\n",
        "\n",
        "    text = recognizer.recognize_google(audio)  # Use Google Speech Recognition API\n",
        "    lowercase_text = text.lower()  # Convert the text to lowercase\n",
        "\n",
        "    return lowercase_text\n",
        "\n",
        "def count_words(text):\n",
        "    words = text.split()  # Split the text into words\n",
        "    return len(words)    # Return the count of words\n",
        "\n",
        "# Path to the folder containing the WAV files\n",
        "folder_path = \"/content/sample_data/subj2_sent_8rep\"\n",
        "\n",
        "# Iterate over the files in the folder\n",
        "for filename in os.listdir(folder_path):\n",
        "    if filename.endswith(\".wav\"):\n",
        "        audio_file = os.path.join(folder_path, filename)\n",
        "\n",
        "        converted_text = convert_speech_to_text(audio_file)  # Convert speech to text\n",
        "\n",
        "        word_count = count_words(converted_text)  # Count the words in the converted text\n",
        "\n",
        "        print(f\"File: {filename}\")\n",
        "        print(f\"Text: {converted_text}\")\n",
        "        print(f\"Word Count: {word_count}\\n\")"
      ],
      "metadata": {
        "id": "6bxfabYsAEwk"
      },
      "execution_count": null,
      "outputs": []
    },
    {
      "cell_type": "markdown",
      "source": [
        "###**🌵  4 WER (subj1, rep1, sentence1, original)**"
      ],
      "metadata": {
        "id": "-vauZFNEZVDA"
      }
    },
    {
      "cell_type": "code",
      "source": [
        "import numpy as np\n",
        "import pandas as pd\n",
        "import Levenshtein\n",
        "\n",
        "def calculate_wer(reference, hypothesis):\n",
        "    reference_words = reference.split()\n",
        "    hypothesis_words = hypothesis.split()\n",
        "\n",
        "    # Compute Levenshtein distance between the reference and hypothesis\n",
        "    distance = Levenshtein.distance(reference_words, hypothesis_words)\n",
        "\n",
        "    # Calculate Word Error Rate (WER)\n",
        "    wer = distance / len(reference_words)\n",
        "    return round(wer, 2)  # Round the WER to two decimal places. >>return wer 라고 code line 쓰면, longer decimal places for default\n",
        "\n",
        "# Calculate WER for each pair of texts\n",
        "reference_texts = [\n",
        "    \"the north wind and the sun were disputing which was the stronger when a traveler came along wrapped in a warm cloak \",\n",
        "    \"the north wind and the sun were disputing which was the stronger when a traveler came along wrapped in a warm cloak \",\n",
        "    \"the north wind and the sun were disputing which was the stronger when a traveler came along wrapped in a warm cloak \",\n",
        "    \"the north wind and the sun were disputing which was the stronger when a traveler came along wrapped in a warm cloak \",\n",
        "    \"the north wind and the sun were disputing which was the stronger when a traveler came along wrapped in a warm cloak \",\n",
        "    \"the north wind and the sun were disputing which was the stronger when a traveler came along wrapped in a warm cloak \",\n",
        "    \"the north wind and the sun were disputing which was the stronger when a traveler came along wrapped in a warm cloak \",\n",
        "    \"the north wind and the sun were disputing which was the stronger when a traveler came along wrapped in a warm cloak \",\n",
        "]\n",
        "\n",
        "hypothesis_texts = [\n",
        "\n",
        "wer_values = []\n",
        "for reference, hypothesis in zip(reference_texts, hypothesis_texts):\n",
        "    wer = calculate_wer(reference, hypothesis)\n",
        "    wer_values.append(wer)\n",
        "\n",
        "# Create a DataFrame from the WER values\n",
        "df = pd.DataFrame(np.array(wer_values).reshape(-1, 1), columns=['WER'])\n",
        "df.index = [\"Sentence1 of 'the North Wind and the Sun'{}\".format(i+1) for i in range(len(wer_values))]\n",
        "\n",
        "print(df)\n",
        "\n",
        "output_file = 'subj2_sentence1.xlsx'\n",
        "df.to_excel(output_file, index=False)"
      ],
      "metadata": {
        "id": "dfaro8QIaB0x"
      },
      "execution_count": null,
      "outputs": []
    },
    {
      "cell_type": "code",
      "source": [
        "hypothesis_texts = [\"\",\n",
        "                    \"\",\n",
        "                    \"\",\n",
        "                    \"\",\n",
        "                    \"\",\n",
        "                    \"\",\n",
        "                    \"\",\n",
        "                    \"\""
      ],
      "metadata": {
        "id": "540HLgmFow9o"
      },
      "execution_count": null,
      "outputs": []
    },
    {
      "cell_type": "code",
      "source": [
        "hypothesis_texts = [\"\",\n",
        "                    \"\",\n",
        "                    \"\",\n",
        "                    \"\",\n",
        "                    \"\",\n",
        "                    \"\",\n",
        "                    \"\",\n",
        "                    \"\""
      ],
      "metadata": {
        "id": "CczZOYIkKFj9"
      },
      "execution_count": null,
      "outputs": []
    },
    {
      "cell_type": "code",
      "source": [
        "hypothesis_texts = [\"\",\n",
        "                    \"\",\n",
        "                    \"\",\n",
        "                    \"\",\n",
        "                    \"\",\n",
        "                    \"\",\n",
        "                    \"\",\n",
        "                    \"\""
      ],
      "metadata": {
        "id": "SNnqljAiKFQ7"
      },
      "execution_count": null,
      "outputs": []
    },
    {
      "cell_type": "code",
      "source": [
        "hypothesis_texts = [\"\",\n",
        "                    \"\",\n",
        "                    \"\",\n",
        "                    \"\",\n",
        "                    \"\",\n",
        "                    \"\",\n",
        "                    \"\",\n",
        "                    \"\""
      ],
      "metadata": {
        "id": "oq6oGaJsKE8Z"
      },
      "execution_count": null,
      "outputs": []
    },
    {
      "cell_type": "code",
      "source": [
        "hypothesis_texts = [\"\",\n",
        "                    \"\",\n",
        "                    \"\",\n",
        "                    \"\",\n",
        "                    \"\",\n",
        "                    \"\",\n",
        "                    \"\",\n",
        "                    \"\""
      ],
      "metadata": {
        "id": "o9-sjKAfKEcJ"
      },
      "execution_count": null,
      "outputs": []
    },
    {
      "cell_type": "code",
      "source": [
        "hypothesis_texts = [\"\",\n",
        "                    \"\",\n",
        "                    \"\",\n",
        "                    \"\",\n",
        "                    \"\",\n",
        "                    \"\",\n",
        "                    \"\",\n",
        "                    \"\""
      ],
      "metadata": {
        "id": "4Z7cy9R1KECy"
      },
      "execution_count": null,
      "outputs": []
    },
    {
      "cell_type": "code",
      "source": [
        "hypothesis_texts = [\"\",\n",
        "                    \"\",\n",
        "                    \"\",\n",
        "                    \"\",\n",
        "                    \"\",\n",
        "                    \"\",\n",
        "                    \"\",\n",
        "                    \"\""
      ],
      "metadata": {
        "id": "YVeXLUh1KDM7"
      },
      "execution_count": null,
      "outputs": []
    },
    {
      "cell_type": "markdown",
      "source": [],
      "metadata": {
        "id": "9XToStaxqE-o"
      }
    }
  ]
}